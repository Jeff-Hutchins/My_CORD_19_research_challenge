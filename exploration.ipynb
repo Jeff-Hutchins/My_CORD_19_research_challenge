{
 "cells": [
  {
   "cell_type": "code",
   "execution_count": 1,
   "metadata": {},
   "outputs": [],
   "source": [
    "import pandas as pd"
   ]
  },
  {
   "cell_type": "code",
   "execution_count": 3,
   "metadata": {},
   "outputs": [],
   "source": [
    "# df = pd.read_csv('metadata.csv')"
   ]
  },
  {
   "cell_type": "code",
   "execution_count": 4,
   "metadata": {},
   "outputs": [],
   "source": [
    "import os\n",
    "import json\n",
    "from pprint import pprint\n",
    "from copy import deepcopy\n",
    "\n",
    "import numpy as np\n",
    "import pandas as pd\n",
    "from tqdm import tqdm"
   ]
  },
  {
   "cell_type": "code",
   "execution_count": 5,
   "metadata": {},
   "outputs": [],
   "source": [
    "def format_name(author):\n",
    "    middle_name = \" \".join(author['middle'])\n",
    "    \n",
    "    if author['middle']:\n",
    "        return \" \".join([author['first'], middle_name, author['last']])\n",
    "    else:\n",
    "        return \" \".join([author['first'], author['last']])\n",
    "\n",
    "\n",
    "def format_affiliation(affiliation):\n",
    "    text = []\n",
    "    location = affiliation.get('location')\n",
    "    if location:\n",
    "        text.extend(list(affiliation['location'].values()))\n",
    "    \n",
    "    institution = affiliation.get('institution')\n",
    "    if institution:\n",
    "        text = [institution] + text\n",
    "    return \", \".join(text)\n",
    "\n",
    "def format_authors(authors, with_affiliation=False):\n",
    "    name_ls = []\n",
    "    \n",
    "    for author in authors:\n",
    "        name = format_name(author)\n",
    "        if with_affiliation:\n",
    "            affiliation = format_affiliation(author['affiliation'])\n",
    "            if affiliation:\n",
    "                name_ls.append(f\"{name} ({affiliation})\")\n",
    "            else:\n",
    "                name_ls.append(name)\n",
    "        else:\n",
    "            name_ls.append(name)\n",
    "    \n",
    "    return \", \".join(name_ls)\n",
    "\n",
    "def format_body(body_text):\n",
    "    texts = [(di['section'], di['text']) for di in body_text]\n",
    "    texts_di = {di['section']: \"\" for di in body_text}\n",
    "    \n",
    "    for section, text in texts:\n",
    "        texts_di[section] += text\n",
    "\n",
    "    body = \"\"\n",
    "\n",
    "    for section, text in texts_di.items():\n",
    "        body += section\n",
    "        body += \"\\n\\n\"\n",
    "        body += text\n",
    "        body += \"\\n\\n\"\n",
    "    \n",
    "    return body\n",
    "\n",
    "def format_bib(bibs):\n",
    "    if type(bibs) == dict:\n",
    "        bibs = list(bibs.values())\n",
    "    bibs = deepcopy(bibs)\n",
    "    formatted = []\n",
    "    \n",
    "    for bib in bibs:\n",
    "        bib['authors'] = format_authors(\n",
    "            bib['authors'], \n",
    "            with_affiliation=False\n",
    "        )\n",
    "        formatted_ls = [str(bib[k]) for k in ['title', 'authors', 'venue', 'year']]\n",
    "        formatted.append(\", \".join(formatted_ls))\n",
    "\n",
    "    return \"; \".join(formatted)"
   ]
  },
  {
   "cell_type": "code",
   "execution_count": 6,
   "metadata": {},
   "outputs": [],
   "source": [
    "def load_files(dirname):\n",
    "    filenames = os.listdir(dirname)\n",
    "    raw_files = []\n",
    "\n",
    "    for filename in tqdm(filenames):\n",
    "        filename = dirname + filename\n",
    "        file = json.load(open(filename, 'rb'))\n",
    "        raw_files.append(file)\n",
    "    \n",
    "    return raw_files\n",
    "\n",
    "def generate_clean_df(all_files):\n",
    "    cleaned_files = []\n",
    "    \n",
    "    for file in tqdm(all_files):\n",
    "        features = [\n",
    "            file['paper_id'],\n",
    "            file['metadata']['title'],\n",
    "            format_authors(file['metadata']['authors']),\n",
    "            format_authors(file['metadata']['authors'], \n",
    "                           with_affiliation=True),\n",
    "            format_body(file['abstract']),\n",
    "            format_body(file['body_text']),\n",
    "            format_bib(file['bib_entries']),\n",
    "            file['metadata']['authors'],\n",
    "            file['bib_entries']\n",
    "        ]\n",
    "\n",
    "        cleaned_files.append(features)\n",
    "\n",
    "    col_names = ['paper_id', 'title', 'authors',\n",
    "                 'affiliations', 'abstract', 'text', \n",
    "                 'bibliography','raw_authors','raw_bibliography']\n",
    "\n",
    "    clean_df = pd.DataFrame(cleaned_files, columns=col_names)\n",
    "    clean_df.head()\n",
    "    \n",
    "    return clean_df"
   ]
  },
  {
   "cell_type": "code",
   "execution_count": 7,
   "metadata": {},
   "outputs": [
    {
     "name": "stdout",
     "output_type": "stream",
     "text": [
      "Number of articles retrieved from biorxiv: 885\n"
     ]
    }
   ],
   "source": [
    "biorxiv_dir = 'biorxiv_medrxiv/biorxiv_medrxiv/'\n",
    "filenames = os.listdir(biorxiv_dir)\n",
    "print(\"Number of articles retrieved from biorxiv:\", len(filenames))"
   ]
  },
  {
   "cell_type": "code",
   "execution_count": 8,
   "metadata": {},
   "outputs": [],
   "source": [
    "all_files = []\n",
    "\n",
    "for filename in filenames:\n",
    "    filename = biorxiv_dir + filename\n",
    "    file = json.load(open(filename, 'rb'))\n",
    "    all_files.append(file)"
   ]
  },
  {
   "cell_type": "code",
   "execution_count": 9,
   "metadata": {},
   "outputs": [
    {
     "name": "stdout",
     "output_type": "stream",
     "text": [
      "Dictionary keys: dict_keys(['paper_id', 'metadata', 'abstract', 'body_text', 'bib_entries', 'ref_entries', 'back_matter'])\n"
     ]
    }
   ],
   "source": [
    "file = all_files[0]\n",
    "print(\"Dictionary keys:\", file.keys())"
   ]
  },
  {
   "cell_type": "code",
   "execution_count": 10,
   "metadata": {},
   "outputs": [
    {
     "name": "stdout",
     "output_type": "stream",
     "text": [
      "[{'cite_spans': [],\n",
      "  'ref_spans': [],\n",
      "  'section': 'Abstract',\n",
      "  'text': 'New anti-AIDS treatments must be continually developed in order to '\n",
      "          'overcome resistance mutations including those emerging in the '\n",
      "          'newest therapeutic target, the viral integrase (IN). '\n",
      "          'Multimerization of IN is functionally imperative and provides a '\n",
      "          'forthcoming therapeutic target. Allosteric inhibitors of IN bind to '\n",
      "          'non-catalytic sites and prevent correct multimerization not only '\n",
      "          'restricting viral integration but also the assembly and maturation '\n",
      "          'of viral particles. Here, we report an allosteric inhibitor peptide '\n",
      "          'targeting an unexploited SH3-docking platform of retroviral IN. The '\n",
      "          'crystal structure of the peptide in complex with the HIV-1 IN core '\n",
      "          'domain reveals a steric interference that would inhibit conserved '\n",
      "          'docking of SH3-containing domain with the core domain vital for IN '\n",
      "          'multimerization, providing a template for the development of novel '\n",
      "          'anti-IN allosteric inhibitors.'}]\n"
     ]
    }
   ],
   "source": [
    "pprint(file['abstract'])"
   ]
  },
  {
   "cell_type": "code",
   "execution_count": 11,
   "metadata": {},
   "outputs": [
    {
     "name": "stdout",
     "output_type": "stream",
     "text": [
      "body_text type: <class 'list'>\n",
      "body_text length: 22\n",
      "body_text keys: dict_keys(['text', 'cite_spans', 'ref_spans', 'section'])\n"
     ]
    }
   ],
   "source": [
    "print(\"body_text type:\", type(file['body_text']))\n",
    "print(\"body_text length:\", len(file['body_text']))\n",
    "print(\"body_text keys:\", file['body_text'][0].keys())"
   ]
  },
  {
   "cell_type": "code",
   "execution_count": 12,
   "metadata": {},
   "outputs": [
    {
     "name": "stdout",
     "output_type": "stream",
     "text": [
      "body_text content:\n",
      "[{'cite_spans': [{...},\n",
      "                 {...},\n",
      "                 {...},\n",
      "                 {...},\n",
      "                 {...},\n",
      "                 {...},\n",
      "                 {...},\n",
      "                 {...},\n",
      "                 {...},\n",
      "                 {...},\n",
      "                 {...},\n",
      "                 {...},\n",
      "                 {...},\n",
      "                 {...},\n",
      "                 {...},\n",
      "                 {...}],\n",
      "  'ref_spans': [],\n",
      "  'section': '',\n",
      "  'text': 'In the absence of a curative treatment, the highly active '\n",
      "          'antiretroviral therapy (HAART) keeps the HIV-1 virus of AIDS '\n",
      "          'patients under control. HAART combines drugs targeting different '\n",
      "          'stages of viral replication including the integration step '\n",
      "          'catalyzed by the integrase protein (IN) (1) . Integration of viral '\n",
      "          'DNA into host genome involves two steps catalyzed by IN: (i) '\n",
      "          \"cleavage of a dinucleotide from each 3'-end of the viral DNA \"\n",
      "          \"(3'processing), and (ii) insertion of this processed viral DNA into \"\n",
      "          'the host DNA (strand-transfer) (2) . Clinical IN strand transfer '\n",
      "          'inhibitors (INSTIs) target the catalytic site of the enzyme to '\n",
      "          'specifically inhibit the DNA joining reaction, however, as with all '\n",
      "          'anti-AIDS treatments, the continued success of these drugs is '\n",
      "          'persistently disrupted by resistance mutations (1, 2) . Although '\n",
      "          \"3'-processing can be carried out by monomeric IN (3) , the assembly \"\n",
      "          'of IN functional multimers is imperative for the strand-transfer '\n",
      "          'activity (4) (5) (6) (7) (8) , and for virus particle maturation '\n",
      "          'and production (reviewed in (9, 10) ). In the continued quest to '\n",
      "          'identify and develop new drugs, allosteric inhibitors that bind '\n",
      "          'sites outside the catalytic core and disrupt IN multimerization are '\n",
      "          'emerging with potent therapeutic potential (11) (12) (13) (14) .'},\n",
      " {'cite_spans': [{...}, {...}, {...}, {...}, {...}, {...}, {...}],\n",
      "  'ref_spans': [],\n",
      "  'section': '',\n",
      "  'text': 'Tetramers of IN are formed by the reciprocal swapping of the three, '\n",
      "          'N-terminal, catalytic core and Cterminal, canonical domains of IN. '\n",
      "          'The two internal IN protomers, where catalytic binding of viral and '\n",
      "          'host DNA takes place, make up the majority of the tetramer '\n",
      "          'interface. The outer two protomers, and other surrounding units in '\n",
      "          'higher order assemblies, provide supportive domains indispensible '\n",
      "          'for the assembly of the tetrameric cores (4) (5) (6) (7) (8) . We '\n",
      "          'recently showed that targeting the interface between the N-terminal '\n",
      "          'domain (NTD) and catalytic core domain (CCD) of IN, using a '\n",
      "          'specific antigen-binding fragment (Fab), inhibits IN tetramer '\n",
      "          'formation and consequent enzymatic activity and virus particle '\n",
      "          'production (9) . Disrupting the dimerization of the elementary '\n",
      "          'dimeric blocks building IN tetramers has also been explored as a '\n",
      "          'strategy to inhibit IN activity (15) .'}]\n"
     ]
    }
   ],
   "source": [
    "print(\"body_text content:\")\n",
    "pprint(file['body_text'][:2], depth=3)"
   ]
  },
  {
   "cell_type": "code",
   "execution_count": 13,
   "metadata": {},
   "outputs": [
    {
     "name": "stdout",
     "output_type": "stream",
     "text": [
      "['',\n",
      " 'Fab derived peptide inhibits IN multimerization and strand-transfer activity',\n",
      " 'The peptide targets two SH3-docking sites at the CCD/CTD interfaces',\n",
      " 'SH3-docking platform-2 offers an ideal spot for allosteric targeting',\n",
      " 'Implications for the CTD interdomain interactions',\n",
      " 'DISCUSSION',\n",
      " 'EXPERIMENTAL PROCEDURES Preparation of HIV-1 IN Constructs:',\n",
      " 'Protein Expression and Purification:',\n",
      " 'In Vitro Fluorescence IN Activity Assays',\n",
      " 'Structural Analysis:',\n",
      " 'Accession numbers']\n"
     ]
    }
   ],
   "source": [
    "texts = [(di['section'], di['text']) for di in file['body_text']]\n",
    "texts_di = {di['section']: \"\" for di in file['body_text']}\n",
    "for section, text in texts:\n",
    "    texts_di[section] += text\n",
    "\n",
    "pprint(list(texts_di.keys()))"
   ]
  },
  {
   "cell_type": "code",
   "execution_count": 14,
   "metadata": {},
   "outputs": [
    {
     "name": "stdout",
     "output_type": "stream",
     "text": [
      "\n",
      "\n",
      "In the absence of a curative treatment, the highly active antiretroviral therapy (HAART) keeps the HIV-1 virus of AIDS patients under control. HAART combines drugs targeting different stages of viral replication including the integration step catalyzed by the integrase protein (IN) (1) . Integration of viral DNA into host genome involves two steps catalyzed by IN: (i) cleavage of a dinucleotide from each 3'-end of the viral DNA (3'processing), and (ii) insertion of this processed viral DNA into the host DNA (strand-transfer) (2) . Clinical IN strand transfer inhibitors (INSTIs) target the catalytic site of the enzyme to specifically inhibit the DNA joining reaction, however, as with all anti-AIDS treatments, the continued success of these drugs is persistently disrupted by resistance mutations (1, 2) . Although 3'-processing can be carried out by monomeric IN (3) , the assembly of IN functional multimers is imperative for the strand-transfer activity (4) (5) (6) (7) (8) , and for virus particle maturation and production (reviewed in (9, 10) ). In the continued quest to identify and develop new drugs, allosteric inhibitors that bind sites outside the catalytic core and disrupt IN multimerization are emerging with potent therapeutic potential (11) (12) (13) (14) .Tetramers of IN are formed by the reciprocal swapping of the three, N-terminal, catalytic core and Cterminal, canonical domains of IN. The two internal IN protomers, where catalytic binding of viral and host DNA takes place, make up the majority of the tetramer interface. The outer two protomers, and other surrounding units in higher order assemblies, provide supportive domains indispensible for the assembly of the tetrameric cores (4) (5) (6) (7) (8) . We recently showed that targeting the interface between the N-terminal domain (NTD) and catalytic core domain (CCD) of IN, using a specific antigen-binding fragment (Fab), inhibits IN tetramer formation and consequent enzymatic activity and virus particle production (9) . Disrupting the dimerization of the elementary dimeric blocks building IN tetramers has also been explored as a strategy to inhibit IN activity (15) .Hindering the assembly of IN functional multimers is only one side of the coin. Allosteric interference has also been shown to promote the formation of aberrant IN multimers and aggregates. The potential of allosteric IN inhibitors has been demonstrated through the thorough characterization of the \"LEDGF pocket\" formed at the dimer interface of IN and the development of LEDGIN (or ALLINI) inhibitors that bind to it (11) (Figure 1A) . Although less investigated, other IN pockets capable of allosteric inhibitor binding have also been identified ( Figure 1A) : binding of the \"Y3\" molecule to a pocket near the N-terminal end of CCD α-helix 4, designated Y3pocket, has been shown to inhibit 3'-processing and strand-transfer activities (16) ; the \"sucrose\" binding pocket found along the CCD dimer interface and flanked by two LEDGF \n"
     ]
    }
   ],
   "source": [
    "body = \"\"\n",
    "\n",
    "for section, text in texts_di.items():\n",
    "    body += section\n",
    "    body += \"\\n\\n\"\n",
    "    body += text\n",
    "    body += \"\\n\\n\"\n",
    "\n",
    "print(body[:3000])"
   ]
  },
  {
   "cell_type": "code",
   "execution_count": 15,
   "metadata": {},
   "outputs": [
    {
     "name": "stdout",
     "output_type": "stream",
     "text": [
      "\n",
      "\n",
      "In the absence of a curative treatment, the highly active antiretroviral therapy (HAART) keeps the HIV-1 virus of AIDS patients under control. HAART combines drugs targeting different stages of viral replication including the integration step catalyzed by the integrase protein (IN) (1) . Integration of viral DNA into host genome involves two steps catalyzed by IN: (i) cleavage of a dinucleotide from each 3'-end of the viral DNA (3'processing), and (ii) insertion of this processed viral DNA into the host DNA (strand-transfer) (2) . Clinical IN strand transfer inhibitors (INSTIs) target the catalytic site of the enzyme to specifically inhibit the DNA joining reaction, however, as with all anti-AIDS treatments, the continued success of these drugs is persistently disrupted by resistance mutations (1, 2) . Although 3'-processing can be carried out by monomeric IN (3) , the assembly of IN functional multimers is imperative for the strand-transfer activity (4) (5) (6) (7) (8) , and for virus particle maturation and production (reviewed in (9, 10) ). In the continued quest to identify and develop new drugs, allosteric inhibitors that bind sites outside the catalytic core and disrupt IN multimerization are emerging with potent therapeutic potential (11) (12) (13) (14) .Tetramers of IN are formed by the reciprocal swapping of the three, N-terminal, catalytic core and Cterminal, canonical domains of IN. The two internal IN protomers, where catalytic binding of viral and host DNA takes place, make up the majority of the tetramer interface. The outer two protomers, and other surrounding units in higher order assemblies, provide supportive domains indispensible for the assembly of the tetrameric cores (4) (5) (6) (7) (8) . We recently showed that targeting the interface between the N-terminal domain (NTD) and catalytic core domain (CCD) of IN, using a specific antigen-binding fragment (Fab), inhibits IN tetramer formation and consequent enzymatic activity and virus particle production (9) . Disrupting the dimerization of the elementary dimeric blocks building IN tetramers has also been explored as a strategy to inhibit IN activity (15) .Hindering the assembly of IN functional multimers is only one side of the coin. Allosteric interference has also been shown to promote the formation of aberrant IN multimers and aggregates. The potential of allosteric IN inhibitors has been demonstrated through the thorough characterization of the \"LEDGF pocket\" formed at the dimer interface of IN and the development of LEDGIN (or ALLINI) inhibitors that bind to it (11) (Figure 1A) . Although less investigated, other IN pockets capable of allosteric inhibitor binding have also been identified ( Figure 1A) : binding of the \"Y3\" molecule to a pocket near the N-terminal end of CCD α-helix 4, designated Y3pocket, has been shown to inhibit 3'-processing and strand-transfer activities (16) ; the \"sucrose\" binding pocket found along the CCD dimer interface and flanked by two LEDGF \n"
     ]
    }
   ],
   "source": [
    "print(format_body(file['body_text'])[:3000])"
   ]
  },
  {
   "cell_type": "code",
   "execution_count": 16,
   "metadata": {},
   "outputs": [
    {
     "name": "stdout",
     "output_type": "stream",
     "text": [
      "dict_keys(['title', 'authors'])\n"
     ]
    }
   ],
   "source": [
    "print(all_files[0]['metadata'].keys())"
   ]
  },
  {
   "cell_type": "code",
   "execution_count": 17,
   "metadata": {},
   "outputs": [
    {
     "name": "stdout",
     "output_type": "stream",
     "text": [
      "Multimerization of HIV-1 integrase hinges on conserved SH3-docking platforms\n"
     ]
    }
   ],
   "source": [
    "print(all_files[0]['metadata']['title'])"
   ]
  },
  {
   "cell_type": "code",
   "execution_count": 18,
   "metadata": {},
   "outputs": [
    {
     "name": "stdout",
     "output_type": "stream",
     "text": [
      "[{'affiliation': {'institution': 'Technion -Israel Institute of Technology',\n",
      "                  'laboratory': '',\n",
      "                  'location': {'country': 'Israel., Israel',\n",
      "                               'postCode': '320003, 320003',\n",
      "                               'settlement': 'Haifa, Haifa'}},\n",
      "  'email': '',\n",
      "  'first': 'Meytal',\n",
      "  'last': 'Galilee',\n",
      "  'middle': [],\n",
      "  'suffix': ''},\n",
      " {'affiliation': {'institution': 'Technion -Israel Institute of Technology',\n",
      "                  'laboratory': '',\n",
      "                  'location': {'country': 'Israel., Israel',\n",
      "                               'postCode': '320003, 320003',\n",
      "                               'settlement': 'Haifa, Haifa'}},\n",
      "  'email': 'alian@technion.ac.il',\n",
      "  'first': 'Akram',\n",
      "  'last': 'Alian',\n",
      "  'middle': [],\n",
      "  'suffix': ''}]\n"
     ]
    }
   ],
   "source": [
    "authors = all_files[0]['metadata']['authors']\n",
    "pprint(authors[:3])"
   ]
  },
  {
   "cell_type": "code",
   "execution_count": 19,
   "metadata": {},
   "outputs": [
    {
     "name": "stdout",
     "output_type": "stream",
     "text": [
      "Name: Meytal Galilee\n",
      "Affiliation: Technion -Israel Institute of Technology, 320003, 320003, Haifa, Haifa, Israel., Israel\n",
      "\n",
      "Name: Akram Alian\n",
      "Affiliation: Technion -Israel Institute of Technology, 320003, 320003, Haifa, Haifa, Israel., Israel\n",
      "\n"
     ]
    }
   ],
   "source": [
    "for author in authors:\n",
    "    print(\"Name:\", format_name(author))\n",
    "    print(\"Affiliation:\", format_affiliation(author['affiliation']))\n",
    "    print()"
   ]
  },
  {
   "cell_type": "code",
   "execution_count": 20,
   "metadata": {},
   "outputs": [
    {
     "name": "stdout",
     "output_type": "stream",
     "text": [
      "{'authors': [{'affiliation': {'institution': 'University of Basel',\n",
      "                              'laboratory': '',\n",
      "                              'location': {...}},\n",
      "              'email': '',\n",
      "              'first': 'Richard',\n",
      "              'last': 'Neher',\n",
      "              'middle': ['A'],\n",
      "              'suffix': ''},\n",
      "             {'affiliation': {'institution': 'Karolinska University Hospital',\n",
      "                              'laboratory': '',\n",
      "                              'location': {...}},\n",
      "              'email': '',\n",
      "              'first': 'Robert',\n",
      "              'last': 'Dyrdak',\n",
      "              'middle': [],\n",
      "              'suffix': ''},\n",
      "             {'affiliation': {'institution': 'University of Basel',\n",
      "                              'laboratory': '',\n",
      "                              'location': {...}},\n",
      "              'email': '',\n",
      "              'first': 'Valentin',\n",
      "              'last': 'Druelle',\n",
      "              'middle': [],\n",
      "              'suffix': ''},\n",
      "             {'affiliation': {'institution': 'University of Basel',\n",
      "                              'laboratory': '',\n",
      "                              'location': {...}},\n",
      "              'email': '',\n",
      "              'first': 'Emma',\n",
      "              'last': 'Hodcroft',\n",
      "              'middle': ['B'],\n",
      "              'suffix': ''},\n",
      "             {'affiliation': {'institution': 'Karolinska University Hospital',\n",
      "                              'laboratory': '',\n",
      "                              'location': {...}},\n",
      "              'email': '',\n",
      "              'first': 'Jan',\n",
      "              'last': 'Albert',\n",
      "              'middle': [],\n",
      "              'suffix': ''}],\n",
      " 'title': 'Potential impact of seasonal forcing on a SARS-CoV-2 pandemic'}\n"
     ]
    }
   ],
   "source": [
    "pprint(all_files[4]['metadata'], depth=4)"
   ]
  },
  {
   "cell_type": "code",
   "execution_count": 21,
   "metadata": {},
   "outputs": [
    {
     "name": "stdout",
     "output_type": "stream",
     "text": [
      "Formatting without affiliation:\n",
      "Richard A Neher, Robert Dyrdak, Valentin Druelle, Emma B Hodcroft, Jan Albert\n",
      "\n",
      "Formatting with affiliation:\n",
      "Richard A Neher (University of Basel, Basel, Switzerland), Robert Dyrdak (Karolinska University Hospital, Stockholm, Sweden), Valentin Druelle (University of Basel, Basel, Switzerland), Emma B Hodcroft (University of Basel, Basel, Switzerland), Jan Albert (Karolinska University Hospital, Stockholm, Sweden)\n"
     ]
    }
   ],
   "source": [
    "authors = all_files[4]['metadata']['authors']\n",
    "print(\"Formatting without affiliation:\")\n",
    "print(format_authors(authors, with_affiliation=False))\n",
    "print(\"\\nFormatting with affiliation:\")\n",
    "print(format_authors(authors, with_affiliation=True))"
   ]
  },
  {
   "cell_type": "code",
   "execution_count": 22,
   "metadata": {},
   "outputs": [
    {
     "name": "stdout",
     "output_type": "stream",
     "text": [
      "[{'authors': [{'first': 'K', 'last': 'Anstett', 'middle': [], 'suffix': ''},\n",
      "              {'first': 'B', 'last': 'Brenner', 'middle': [], 'suffix': ''},\n",
      "              {'first': 'T', 'last': 'Mesplede', 'middle': [], 'suffix': ''},\n",
      "              {'first': 'M',\n",
      "               'last': 'Wainberg',\n",
      "               'middle': [...],\n",
      "               'suffix': ''}],\n",
      "  'issn': '',\n",
      "  'other_ids': {},\n",
      "  'pages': '',\n",
      "  'ref_id': 'b0',\n",
      "  'title': 'HIV drug resistance against strand transfer integrase inhibitors',\n",
      "  'venue': 'Retrovirology',\n",
      "  'volume': '14',\n",
      "  'year': 2017},\n",
      " {'authors': [{'first': 'J', 'last': 'Grawenhoff', 'middle': [], 'suffix': ''},\n",
      "              {'first': 'A',\n",
      "               'last': 'Engelman',\n",
      "               'middle': [...],\n",
      "               'suffix': ''}],\n",
      "  'issn': '',\n",
      "  'other_ids': {},\n",
      "  'pages': '32--44',\n",
      "  'ref_id': 'b1',\n",
      "  'title': 'Retroviral integrase protein and intasome nucleoprotein complex '\n",
      "           'structures',\n",
      "  'venue': 'World J Biol Chem',\n",
      "  'volume': '8',\n",
      "  'year': 2017}]\n"
     ]
    }
   ],
   "source": [
    "bibs = list(file['bib_entries'].values())\n",
    "pprint(bibs[:2], depth=4)"
   ]
  },
  {
   "cell_type": "code",
   "execution_count": 23,
   "metadata": {},
   "outputs": [
    {
     "data": {
      "text/plain": [
       "'K Anstett, B Brenner, T Mesplede, M A Wainberg'"
      ]
     },
     "execution_count": 23,
     "metadata": {},
     "output_type": "execute_result"
    }
   ],
   "source": [
    "format_authors(bibs[0]['authors'], with_affiliation=False)"
   ]
  },
  {
   "cell_type": "code",
   "execution_count": 24,
   "metadata": {},
   "outputs": [
    {
     "name": "stdout",
     "output_type": "stream",
     "text": [
      "HIV drug resistance against strand transfer integrase inhibitors, K Anstett, B Brenner, T Mesplede, M A Wainberg, Retrovirology, 2017; Retroviral integrase protein and intasome nucleoprotein complex structures, J Grawenhoff, A N Engelman, World J Biol Chem, 2017; Identification of Phe187 as a crucial dimerization determinant facilitates crystallization of a monomeric retroviral integrase core domain, M Galilee, Alian , A , Structure, 2014; A supramolecular assembly mediates lentiviral DNA integration, A Ballandras-Colas, D P Maskell, E Serrao, J Locke, P Swuec, S R Jonsson, A Kotecha, N J Cook, V E Pye, I A Taylor, V Andresdottir, A N Engelman, A Costa, P Cherepanov, Science, 2017; Cryo-EM structures and atomic model of the HIV-1 strand transfer complex intasome, D O Passos, M Li, R Yang, S V Rebensburg, R Ghirlando, Y Jeon, N Shkriabai, M Kvaratskhelia, R Craigie, D Lyumkis, Science, 2017\n"
     ]
    }
   ],
   "source": [
    "bib_formatted = format_bib(bibs[:5])\n",
    "print(bib_formatted)"
   ]
  },
  {
   "cell_type": "code",
   "execution_count": 25,
   "metadata": {},
   "outputs": [
    {
     "name": "stderr",
     "output_type": "stream",
     "text": [
      "100%|██████████| 885/885 [00:18<00:00, 48.09it/s] \n"
     ]
    }
   ],
   "source": [
    "cleaned_files = []\n",
    "\n",
    "for file in tqdm(all_files):\n",
    "    features = [\n",
    "        file['paper_id'],\n",
    "        file['metadata']['title'],\n",
    "        format_authors(file['metadata']['authors']),\n",
    "        format_authors(file['metadata']['authors'], \n",
    "                       with_affiliation=True),\n",
    "        format_body(file['abstract']),\n",
    "        format_body(file['body_text']),\n",
    "        format_bib(file['bib_entries']),\n",
    "        file['metadata']['authors'],\n",
    "        file['bib_entries']\n",
    "    ]\n",
    "    \n",
    "    cleaned_files.append(features)"
   ]
  },
  {
   "cell_type": "code",
   "execution_count": 26,
   "metadata": {},
   "outputs": [
    {
     "data": {
      "text/html": [
       "<div>\n",
       "<style scoped>\n",
       "    .dataframe tbody tr th:only-of-type {\n",
       "        vertical-align: middle;\n",
       "    }\n",
       "\n",
       "    .dataframe tbody tr th {\n",
       "        vertical-align: top;\n",
       "    }\n",
       "\n",
       "    .dataframe thead th {\n",
       "        text-align: right;\n",
       "    }\n",
       "</style>\n",
       "<table border=\"1\" class=\"dataframe\">\n",
       "  <thead>\n",
       "    <tr style=\"text-align: right;\">\n",
       "      <th></th>\n",
       "      <th>paper_id</th>\n",
       "      <th>title</th>\n",
       "      <th>authors</th>\n",
       "      <th>affiliations</th>\n",
       "      <th>abstract</th>\n",
       "      <th>text</th>\n",
       "      <th>bibliography</th>\n",
       "      <th>raw_authors</th>\n",
       "      <th>raw_bibliography</th>\n",
       "    </tr>\n",
       "  </thead>\n",
       "  <tbody>\n",
       "    <tr>\n",
       "      <th>0</th>\n",
       "      <td>f905f78b32f63c6d14a79984dfb33f1b358b8ab4</td>\n",
       "      <td>Multimerization of HIV-1 integrase hinges on c...</td>\n",
       "      <td>Meytal Galilee, Akram Alian</td>\n",
       "      <td>Meytal Galilee (Technion -Israel Institute of ...</td>\n",
       "      <td>Abstract\\n\\nNew anti-AIDS treatments must be c...</td>\n",
       "      <td>\\n\\nIn the absence of a curative treatment, th...</td>\n",
       "      <td>HIV drug resistance against strand transfer in...</td>\n",
       "      <td>[{'first': 'Meytal', 'middle': [], 'last': 'Ga...</td>\n",
       "      <td>{'BIBREF0': {'ref_id': 'b0', 'title': 'HIV dru...</td>\n",
       "    </tr>\n",
       "    <tr>\n",
       "      <th>1</th>\n",
       "      <td>abcfffafab399149d4adadd6bb458c4994e2025d</td>\n",
       "      <td>Time-varying transmission dynamics of Novel Co...</td>\n",
       "      <td>Tao Liu, Jianxiong Hu, Jianpeng Xiao, Guanhao ...</td>\n",
       "      <td>Tao Liu, Jianxiong Hu, Jianpeng Xiao, Guanhao ...</td>\n",
       "      <td>Abstract\\n\\nRationale: Several studies have es...</td>\n",
       "      <td>Introduction\\n\\nEighteen years ago, severe acu...</td>\n",
       "      <td>World Health Organization. Summary of probable...</td>\n",
       "      <td>[{'first': 'Tao', 'middle': [], 'last': 'Liu',...</td>\n",
       "      <td>{'BIBREF0': {'ref_id': 'b0', 'title': 'World H...</td>\n",
       "    </tr>\n",
       "    <tr>\n",
       "      <th>2</th>\n",
       "      <td>0cb9c296684ca5e71462d825cab2827854a01544</td>\n",
       "      <td>p53 is not necessary for DUX4 pathology</td>\n",
       "      <td>Darko Bosnakovski, Erik A Toso, Olivia O Recht...</td>\n",
       "      <td>Darko Bosnakovski (Lillehei Heart Institute), ...</td>\n",
       "      <td>Abstract\\n\\nSummary Statement: DUX4 is thought...</td>\n",
       "      <td>Introduction\\n\\nFacioscapulohumeral muscular d...</td>\n",
       "      <td>Trim24 targets endogenous p53 for degradation,...</td>\n",
       "      <td>[{'first': 'Darko', 'middle': [], 'last': 'Bos...</td>\n",
       "      <td>{'BIBREF0': {'ref_id': 'b0', 'title': 'Trim24 ...</td>\n",
       "    </tr>\n",
       "    <tr>\n",
       "      <th>3</th>\n",
       "      <td>9bbfd3d34ee18ea1b9f4669331a6cee9c5992893</td>\n",
       "      <td>Virological assessment of hospitalized cases o...</td>\n",
       "      <td>Roman Wölfel, Victor M Corman, Wolfgang Guggem...</td>\n",
       "      <td>Roman Wölfel, Victor M Corman, Wolfgang Guggem...</td>\n",
       "      <td>Abstract\\n\\nemerged in late 2019 1,2 . Initial...</td>\n",
       "      <td>cases, providing proof of active virus replica...</td>\n",
       "      <td>References (01KI1723A) and the European Union ...</td>\n",
       "      <td>[{'first': 'Roman', 'middle': [], 'last': 'Wöl...</td>\n",
       "      <td>{'BIBREF0': {'ref_id': 'b0', 'title': 'Referen...</td>\n",
       "    </tr>\n",
       "    <tr>\n",
       "      <th>4</th>\n",
       "      <td>1218f278a4f8d83dac14b23c8f698062812ef9d5</td>\n",
       "      <td>Potential impact of seasonal forcing on a SARS...</td>\n",
       "      <td>Richard A Neher, Robert Dyrdak, Valentin Druel...</td>\n",
       "      <td>Richard A Neher (University of Basel, Basel, S...</td>\n",
       "      <td>Abstract\\n\\nA novel coronavirus (SARS-CoV-2) f...</td>\n",
       "      <td>\\n\\n(2.2 with 90% high density interval 1.4-3....</td>\n",
       "      <td>Novel Coronavirus(2019-nCoV) Situation Report ...</td>\n",
       "      <td>[{'first': 'Richard', 'middle': ['A'], 'last':...</td>\n",
       "      <td>{'BIBREF6': {'ref_id': 'b6', 'title': 'Novel C...</td>\n",
       "    </tr>\n",
       "  </tbody>\n",
       "</table>\n",
       "</div>"
      ],
      "text/plain": [
       "                                   paper_id  \\\n",
       "0  f905f78b32f63c6d14a79984dfb33f1b358b8ab4   \n",
       "1  abcfffafab399149d4adadd6bb458c4994e2025d   \n",
       "2  0cb9c296684ca5e71462d825cab2827854a01544   \n",
       "3  9bbfd3d34ee18ea1b9f4669331a6cee9c5992893   \n",
       "4  1218f278a4f8d83dac14b23c8f698062812ef9d5   \n",
       "\n",
       "                                               title  \\\n",
       "0  Multimerization of HIV-1 integrase hinges on c...   \n",
       "1  Time-varying transmission dynamics of Novel Co...   \n",
       "2            p53 is not necessary for DUX4 pathology   \n",
       "3  Virological assessment of hospitalized cases o...   \n",
       "4  Potential impact of seasonal forcing on a SARS...   \n",
       "\n",
       "                                             authors  \\\n",
       "0                        Meytal Galilee, Akram Alian   \n",
       "1  Tao Liu, Jianxiong Hu, Jianpeng Xiao, Guanhao ...   \n",
       "2  Darko Bosnakovski, Erik A Toso, Olivia O Recht...   \n",
       "3  Roman Wölfel, Victor M Corman, Wolfgang Guggem...   \n",
       "4  Richard A Neher, Robert Dyrdak, Valentin Druel...   \n",
       "\n",
       "                                        affiliations  \\\n",
       "0  Meytal Galilee (Technion -Israel Institute of ...   \n",
       "1  Tao Liu, Jianxiong Hu, Jianpeng Xiao, Guanhao ...   \n",
       "2  Darko Bosnakovski (Lillehei Heart Institute), ...   \n",
       "3  Roman Wölfel, Victor M Corman, Wolfgang Guggem...   \n",
       "4  Richard A Neher (University of Basel, Basel, S...   \n",
       "\n",
       "                                            abstract  \\\n",
       "0  Abstract\\n\\nNew anti-AIDS treatments must be c...   \n",
       "1  Abstract\\n\\nRationale: Several studies have es...   \n",
       "2  Abstract\\n\\nSummary Statement: DUX4 is thought...   \n",
       "3  Abstract\\n\\nemerged in late 2019 1,2 . Initial...   \n",
       "4  Abstract\\n\\nA novel coronavirus (SARS-CoV-2) f...   \n",
       "\n",
       "                                                text  \\\n",
       "0  \\n\\nIn the absence of a curative treatment, th...   \n",
       "1  Introduction\\n\\nEighteen years ago, severe acu...   \n",
       "2  Introduction\\n\\nFacioscapulohumeral muscular d...   \n",
       "3  cases, providing proof of active virus replica...   \n",
       "4  \\n\\n(2.2 with 90% high density interval 1.4-3....   \n",
       "\n",
       "                                        bibliography  \\\n",
       "0  HIV drug resistance against strand transfer in...   \n",
       "1  World Health Organization. Summary of probable...   \n",
       "2  Trim24 targets endogenous p53 for degradation,...   \n",
       "3  References (01KI1723A) and the European Union ...   \n",
       "4  Novel Coronavirus(2019-nCoV) Situation Report ...   \n",
       "\n",
       "                                         raw_authors  \\\n",
       "0  [{'first': 'Meytal', 'middle': [], 'last': 'Ga...   \n",
       "1  [{'first': 'Tao', 'middle': [], 'last': 'Liu',...   \n",
       "2  [{'first': 'Darko', 'middle': [], 'last': 'Bos...   \n",
       "3  [{'first': 'Roman', 'middle': [], 'last': 'Wöl...   \n",
       "4  [{'first': 'Richard', 'middle': ['A'], 'last':...   \n",
       "\n",
       "                                    raw_bibliography  \n",
       "0  {'BIBREF0': {'ref_id': 'b0', 'title': 'HIV dru...  \n",
       "1  {'BIBREF0': {'ref_id': 'b0', 'title': 'World H...  \n",
       "2  {'BIBREF0': {'ref_id': 'b0', 'title': 'Trim24 ...  \n",
       "3  {'BIBREF0': {'ref_id': 'b0', 'title': 'Referen...  \n",
       "4  {'BIBREF6': {'ref_id': 'b6', 'title': 'Novel C...  "
      ]
     },
     "execution_count": 26,
     "metadata": {},
     "output_type": "execute_result"
    }
   ],
   "source": [
    "col_names = [\n",
    "    'paper_id', \n",
    "    'title', \n",
    "    'authors',\n",
    "    'affiliations', \n",
    "    'abstract', \n",
    "    'text', \n",
    "    'bibliography',\n",
    "    'raw_authors',\n",
    "    'raw_bibliography'\n",
    "]\n",
    "\n",
    "clean_df = pd.DataFrame(cleaned_files, columns=col_names)\n",
    "clean_df.head()"
   ]
  },
  {
   "cell_type": "code",
   "execution_count": 27,
   "metadata": {},
   "outputs": [],
   "source": [
    "clean_df.to_csv('biorxiv_clean.csv', index=False)"
   ]
  },
  {
   "cell_type": "code",
   "execution_count": 28,
   "metadata": {},
   "outputs": [
    {
     "name": "stderr",
     "output_type": "stream",
     "text": [
      "100%|██████████| 16959/16959 [02:45<00:00, 102.74it/s]\n",
      "100%|██████████| 16959/16959 [01:19<00:00, 213.50it/s]\n"
     ]
    },
    {
     "data": {
      "text/html": [
       "<div>\n",
       "<style scoped>\n",
       "    .dataframe tbody tr th:only-of-type {\n",
       "        vertical-align: middle;\n",
       "    }\n",
       "\n",
       "    .dataframe tbody tr th {\n",
       "        vertical-align: top;\n",
       "    }\n",
       "\n",
       "    .dataframe thead th {\n",
       "        text-align: right;\n",
       "    }\n",
       "</style>\n",
       "<table border=\"1\" class=\"dataframe\">\n",
       "  <thead>\n",
       "    <tr style=\"text-align: right;\">\n",
       "      <th></th>\n",
       "      <th>paper_id</th>\n",
       "      <th>title</th>\n",
       "      <th>authors</th>\n",
       "      <th>affiliations</th>\n",
       "      <th>abstract</th>\n",
       "      <th>text</th>\n",
       "      <th>bibliography</th>\n",
       "      <th>raw_authors</th>\n",
       "      <th>raw_bibliography</th>\n",
       "    </tr>\n",
       "  </thead>\n",
       "  <tbody>\n",
       "    <tr>\n",
       "      <th>0</th>\n",
       "      <td>ab680d5dbc4f51252da3473109a7885dd6b5eb6f</td>\n",
       "      <td>Evolutionary Medicine IV. Evolution and Emerge...</td>\n",
       "      <td>S V Scarpino</td>\n",
       "      <td>S V Scarpino (Santa Fe Institute, Santa Fe, NM...</td>\n",
       "      <td></td>\n",
       "      <td>Introduction\\n\\nThe evolutionary history of hu...</td>\n",
       "      <td>Rapid evolutionary dynamics and disease threat...</td>\n",
       "      <td>[{'first': 'S', 'middle': ['V'], 'last': 'Scar...</td>\n",
       "      <td>{'BIBREF0': {'ref_id': 'b0', 'title': 'Rapid e...</td>\n",
       "    </tr>\n",
       "    <tr>\n",
       "      <th>1</th>\n",
       "      <td>6599ebbef3d868afac9daa4f80fa075675cf03bc</td>\n",
       "      <td>International aviation emissions to 2025: Can ...</td>\n",
       "      <td>Andrew Macintosh, Lailey Wallace</td>\n",
       "      <td>Andrew Macintosh (The Australian National Univ...</td>\n",
       "      <td>Abstract\\n\\nInternational aviation is growing ...</td>\n",
       "      <td>Introduction\\n\\nSixty years ago, civil aviatio...</td>\n",
       "      <td>CONSAVE 2050-constrained scenarios on aviation...</td>\n",
       "      <td>[{'first': 'Andrew', 'middle': [], 'last': 'Ma...</td>\n",
       "      <td>{'BIBREF0': {'ref_id': 'b0', 'title': 'CONSAVE...</td>\n",
       "    </tr>\n",
       "    <tr>\n",
       "      <th>2</th>\n",
       "      <td>eb5c7f3ff921ad6469b79cc8a3c122648204ece4</td>\n",
       "      <td>2 Mechanisms of diarrhoea</td>\n",
       "      <td>I W Booth, A S Mcneish Baillikre&amp;apos;</td>\n",
       "      <td>I W Booth, A S Mcneish Baillikre&amp;apos;</td>\n",
       "      <td></td>\n",
       "      <td>INTRODUCTION\\n\\nAcute infections of the gastro...</td>\n",
       "      <td>A typing scheme for Aeromonas hydrophila based...</td>\n",
       "      <td>[{'first': 'I', 'middle': ['W'], 'last': 'Boot...</td>\n",
       "      <td>{'BIBREF0': {'ref_id': 'b0', 'title': 'A typin...</td>\n",
       "    </tr>\n",
       "    <tr>\n",
       "      <th>3</th>\n",
       "      <td>b87b790c96c75faa22a085cb560f7b3d8e018b24</td>\n",
       "      <td>Features of Host Cells: Cellular and Molecular...</td>\n",
       "      <td></td>\n",
       "      <td></td>\n",
       "      <td></td>\n",
       "      <td>THE BASIC ORGANIZATION OF THE CELL\\n\\nThere ar...</td>\n",
       "      <td>Epidemics to eradication: the modern history o...</td>\n",
       "      <td>[]</td>\n",
       "      <td>{'BIBREF0': {'ref_id': 'b0', 'title': 'Epidemi...</td>\n",
       "    </tr>\n",
       "    <tr>\n",
       "      <th>4</th>\n",
       "      <td>68c0bb1989b6ca2b38da32a0d992027db39f80bc</td>\n",
       "      <td>Spring 2020 | 1 Beijing's Hard and Soft Repres...</td>\n",
       "      <td>Victoria Tin-Bor Hui</td>\n",
       "      <td>Victoria Tin-Bor Hui</td>\n",
       "      <td>Abstract\\n\\nHong Kong's new Police Commissione...</td>\n",
       "      <td>\\n\\nIt is also noteworthy that Tang, who was o...</td>\n",
       "      <td>Listed companies appoint mainlanders to boards...</td>\n",
       "      <td>[{'first': 'Victoria', 'middle': [], 'last': '...</td>\n",
       "      <td>{'BIBREF0': {'ref_id': 'b0', 'title': 'Listed ...</td>\n",
       "    </tr>\n",
       "  </tbody>\n",
       "</table>\n",
       "</div>"
      ],
      "text/plain": [
       "                                   paper_id  \\\n",
       "0  ab680d5dbc4f51252da3473109a7885dd6b5eb6f   \n",
       "1  6599ebbef3d868afac9daa4f80fa075675cf03bc   \n",
       "2  eb5c7f3ff921ad6469b79cc8a3c122648204ece4   \n",
       "3  b87b790c96c75faa22a085cb560f7b3d8e018b24   \n",
       "4  68c0bb1989b6ca2b38da32a0d992027db39f80bc   \n",
       "\n",
       "                                               title  \\\n",
       "0  Evolutionary Medicine IV. Evolution and Emerge...   \n",
       "1  International aviation emissions to 2025: Can ...   \n",
       "2                          2 Mechanisms of diarrhoea   \n",
       "3  Features of Host Cells: Cellular and Molecular...   \n",
       "4  Spring 2020 | 1 Beijing's Hard and Soft Repres...   \n",
       "\n",
       "                                  authors  \\\n",
       "0                            S V Scarpino   \n",
       "1        Andrew Macintosh, Lailey Wallace   \n",
       "2  I W Booth, A S Mcneish Baillikre&apos;   \n",
       "3                                           \n",
       "4                    Victoria Tin-Bor Hui   \n",
       "\n",
       "                                        affiliations  \\\n",
       "0  S V Scarpino (Santa Fe Institute, Santa Fe, NM...   \n",
       "1  Andrew Macintosh (The Australian National Univ...   \n",
       "2             I W Booth, A S Mcneish Baillikre&apos;   \n",
       "3                                                      \n",
       "4                               Victoria Tin-Bor Hui   \n",
       "\n",
       "                                            abstract  \\\n",
       "0                                                      \n",
       "1  Abstract\\n\\nInternational aviation is growing ...   \n",
       "2                                                      \n",
       "3                                                      \n",
       "4  Abstract\\n\\nHong Kong's new Police Commissione...   \n",
       "\n",
       "                                                text  \\\n",
       "0  Introduction\\n\\nThe evolutionary history of hu...   \n",
       "1  Introduction\\n\\nSixty years ago, civil aviatio...   \n",
       "2  INTRODUCTION\\n\\nAcute infections of the gastro...   \n",
       "3  THE BASIC ORGANIZATION OF THE CELL\\n\\nThere ar...   \n",
       "4  \\n\\nIt is also noteworthy that Tang, who was o...   \n",
       "\n",
       "                                        bibliography  \\\n",
       "0  Rapid evolutionary dynamics and disease threat...   \n",
       "1  CONSAVE 2050-constrained scenarios on aviation...   \n",
       "2  A typing scheme for Aeromonas hydrophila based...   \n",
       "3  Epidemics to eradication: the modern history o...   \n",
       "4  Listed companies appoint mainlanders to boards...   \n",
       "\n",
       "                                         raw_authors  \\\n",
       "0  [{'first': 'S', 'middle': ['V'], 'last': 'Scar...   \n",
       "1  [{'first': 'Andrew', 'middle': [], 'last': 'Ma...   \n",
       "2  [{'first': 'I', 'middle': ['W'], 'last': 'Boot...   \n",
       "3                                                 []   \n",
       "4  [{'first': 'Victoria', 'middle': [], 'last': '...   \n",
       "\n",
       "                                    raw_bibliography  \n",
       "0  {'BIBREF0': {'ref_id': 'b0', 'title': 'Rapid e...  \n",
       "1  {'BIBREF0': {'ref_id': 'b0', 'title': 'CONSAVE...  \n",
       "2  {'BIBREF0': {'ref_id': 'b0', 'title': 'A typin...  \n",
       "3  {'BIBREF0': {'ref_id': 'b0', 'title': 'Epidemi...  \n",
       "4  {'BIBREF0': {'ref_id': 'b0', 'title': 'Listed ...  "
      ]
     },
     "execution_count": 28,
     "metadata": {},
     "output_type": "execute_result"
    }
   ],
   "source": [
    "pmc_dir = 'custom_license/custom_license/'\n",
    "pmc_files = load_files(pmc_dir)\n",
    "pmc_df = generate_clean_df(pmc_files)\n",
    "pmc_df.to_csv('clean_pmc.csv', index=False)\n",
    "pmc_df.head()"
   ]
  },
  {
   "cell_type": "code",
   "execution_count": 29,
   "metadata": {},
   "outputs": [
    {
     "name": "stderr",
     "output_type": "stream",
     "text": [
      "100%|██████████| 9118/9118 [07:06<00:00, 21.37it/s]  \n",
      "100%|██████████| 9118/9118 [1:57:26<00:00,  1.29it/s]     \n"
     ]
    },
    {
     "data": {
      "text/html": [
       "<div>\n",
       "<style scoped>\n",
       "    .dataframe tbody tr th:only-of-type {\n",
       "        vertical-align: middle;\n",
       "    }\n",
       "\n",
       "    .dataframe tbody tr th {\n",
       "        vertical-align: top;\n",
       "    }\n",
       "\n",
       "    .dataframe thead th {\n",
       "        text-align: right;\n",
       "    }\n",
       "</style>\n",
       "<table border=\"1\" class=\"dataframe\">\n",
       "  <thead>\n",
       "    <tr style=\"text-align: right;\">\n",
       "      <th></th>\n",
       "      <th>paper_id</th>\n",
       "      <th>title</th>\n",
       "      <th>authors</th>\n",
       "      <th>affiliations</th>\n",
       "      <th>abstract</th>\n",
       "      <th>text</th>\n",
       "      <th>bibliography</th>\n",
       "      <th>raw_authors</th>\n",
       "      <th>raw_bibliography</th>\n",
       "    </tr>\n",
       "  </thead>\n",
       "  <tbody>\n",
       "    <tr>\n",
       "      <th>0</th>\n",
       "      <td>5e0c586f047ff909c8ed3fe171c8975a90608d08</td>\n",
       "      <td>Neutralizing antibodies against porcine epidem...</td>\n",
       "      <td>Lang Gong, Ying Lin, Jianru Qin, Qianniu Li, C...</td>\n",
       "      <td>Lang Gong, Ying Lin, Jianru Qin, Qianniu Li, C...</td>\n",
       "      <td>Abstract\\n\\nBackground: Porcine epidemic diarr...</td>\n",
       "      <td>Background\\n\\nPorcine epidemic diarrhea virus ...</td>\n",
       "      <td>Porcine epidemic diarrhoea virus: a comprehens...</td>\n",
       "      <td>[{'first': 'Lang', 'middle': [], 'last': 'Gong...</td>\n",
       "      <td>{'BIBREF0': {'ref_id': 'b0', 'title': 'Porcine...</td>\n",
       "    </tr>\n",
       "    <tr>\n",
       "      <th>1</th>\n",
       "      <td>1579fbff7af9b156c6f49fee0526e48f852ea460</td>\n",
       "      <td>A Recombinant Newcastle Disease Virus (NDV) Ex...</td>\n",
       "      <td>Edris Shirvani, Anandan Paldurai, Vinoth K Man...</td>\n",
       "      <td>Edris Shirvani (University of Maryland, Colleg...</td>\n",
       "      <td>Abstract\\n\\nCurrently, live-attenuated IBV vac...</td>\n",
       "      <td>Result\\n\\nGeneration of rNDVs expressing S1, S...</td>\n",
       "      <td>Avian Infectious Bronchitis. Version adopted b...</td>\n",
       "      <td>[{'first': 'Edris', 'middle': [], 'last': 'Shi...</td>\n",
       "      <td>{'BIBREF0': {'ref_id': 'b0', 'title': 'Avian I...</td>\n",
       "    </tr>\n",
       "    <tr>\n",
       "      <th>2</th>\n",
       "      <td>f670f4bb6f79e54d7603f8520853b1f0d105b588</td>\n",
       "      <td></td>\n",
       "      <td></td>\n",
       "      <td></td>\n",
       "      <td></td>\n",
       "      <td>\\n\\nShekouh AR, Thompson CC, Prime W, Campbell...</td>\n",
       "      <td>kinase-mediated signaling in genetic stroke su...</td>\n",
       "      <td>[]</td>\n",
       "      <td>{'BIBREF0': {'ref_id': 'b0', 'title': 'kinase-...</td>\n",
       "    </tr>\n",
       "    <tr>\n",
       "      <th>3</th>\n",
       "      <td>e0668c4b793d0cad26639b070819334a94648123</td>\n",
       "      <td>GP-confirmed complete Achilles tendon rupture ...</td>\n",
       "      <td>S J Davis, A Lott, E Besada</td>\n",
       "      <td>S J Davis (University of Tromsø, Tromsø, Norwa...</td>\n",
       "      <td></td>\n",
       "      <td>Introduction\\n\\nThe incidence of complete Achi...</td>\n",
       "      <td>Health and travel advice for Hajj pilgrims, Mu...</td>\n",
       "      <td>[{'first': 'S', 'middle': ['J'], 'last': 'Davi...</td>\n",
       "      <td>{'BIBREF0': {'ref_id': 'b0', 'title': 'Health ...</td>\n",
       "    </tr>\n",
       "    <tr>\n",
       "      <th>4</th>\n",
       "      <td>38aa050ad79d8a1d7022c33535255ce9d47914e5</td>\n",
       "      <td>Potent Inhibition of Junín Virus Infection by ...</td>\n",
       "      <td>C Huang, A G Walker, A M Grant, O A Kolokoltso...</td>\n",
       "      <td>C Huang, A G Walker, A M Grant, O A Kolokoltso...</td>\n",
       "      <td>Abstract\\n\\nThe new world arenavirus Junín vir...</td>\n",
       "      <td>Introduction\\n\\nArenaviruses are enveloped RNA...</td>\n",
       "      <td>Arenaviridae: The Viruses and Their Replicatio...</td>\n",
       "      <td>[{'first': 'C', 'middle': [], 'last': 'Huang',...</td>\n",
       "      <td>{'BIBREF0': {'ref_id': 'b0', 'title': 'Arenavi...</td>\n",
       "    </tr>\n",
       "  </tbody>\n",
       "</table>\n",
       "</div>"
      ],
      "text/plain": [
       "                                   paper_id  \\\n",
       "0  5e0c586f047ff909c8ed3fe171c8975a90608d08   \n",
       "1  1579fbff7af9b156c6f49fee0526e48f852ea460   \n",
       "2  f670f4bb6f79e54d7603f8520853b1f0d105b588   \n",
       "3  e0668c4b793d0cad26639b070819334a94648123   \n",
       "4  38aa050ad79d8a1d7022c33535255ce9d47914e5   \n",
       "\n",
       "                                               title  \\\n",
       "0  Neutralizing antibodies against porcine epidem...   \n",
       "1  A Recombinant Newcastle Disease Virus (NDV) Ex...   \n",
       "2                                                      \n",
       "3  GP-confirmed complete Achilles tendon rupture ...   \n",
       "4  Potent Inhibition of Junín Virus Infection by ...   \n",
       "\n",
       "                                             authors  \\\n",
       "0  Lang Gong, Ying Lin, Jianru Qin, Qianniu Li, C...   \n",
       "1  Edris Shirvani, Anandan Paldurai, Vinoth K Man...   \n",
       "2                                                      \n",
       "3                        S J Davis, A Lott, E Besada   \n",
       "4  C Huang, A G Walker, A M Grant, O A Kolokoltso...   \n",
       "\n",
       "                                        affiliations  \\\n",
       "0  Lang Gong, Ying Lin, Jianru Qin, Qianniu Li, C...   \n",
       "1  Edris Shirvani (University of Maryland, Colleg...   \n",
       "2                                                      \n",
       "3  S J Davis (University of Tromsø, Tromsø, Norwa...   \n",
       "4  C Huang, A G Walker, A M Grant, O A Kolokoltso...   \n",
       "\n",
       "                                            abstract  \\\n",
       "0  Abstract\\n\\nBackground: Porcine epidemic diarr...   \n",
       "1  Abstract\\n\\nCurrently, live-attenuated IBV vac...   \n",
       "2                                                      \n",
       "3                                                      \n",
       "4  Abstract\\n\\nThe new world arenavirus Junín vir...   \n",
       "\n",
       "                                                text  \\\n",
       "0  Background\\n\\nPorcine epidemic diarrhea virus ...   \n",
       "1  Result\\n\\nGeneration of rNDVs expressing S1, S...   \n",
       "2  \\n\\nShekouh AR, Thompson CC, Prime W, Campbell...   \n",
       "3  Introduction\\n\\nThe incidence of complete Achi...   \n",
       "4  Introduction\\n\\nArenaviruses are enveloped RNA...   \n",
       "\n",
       "                                        bibliography  \\\n",
       "0  Porcine epidemic diarrhoea virus: a comprehens...   \n",
       "1  Avian Infectious Bronchitis. Version adopted b...   \n",
       "2  kinase-mediated signaling in genetic stroke su...   \n",
       "3  Health and travel advice for Hajj pilgrims, Mu...   \n",
       "4  Arenaviridae: The Viruses and Their Replicatio...   \n",
       "\n",
       "                                         raw_authors  \\\n",
       "0  [{'first': 'Lang', 'middle': [], 'last': 'Gong...   \n",
       "1  [{'first': 'Edris', 'middle': [], 'last': 'Shi...   \n",
       "2                                                 []   \n",
       "3  [{'first': 'S', 'middle': ['J'], 'last': 'Davi...   \n",
       "4  [{'first': 'C', 'middle': [], 'last': 'Huang',...   \n",
       "\n",
       "                                    raw_bibliography  \n",
       "0  {'BIBREF0': {'ref_id': 'b0', 'title': 'Porcine...  \n",
       "1  {'BIBREF0': {'ref_id': 'b0', 'title': 'Avian I...  \n",
       "2  {'BIBREF0': {'ref_id': 'b0', 'title': 'kinase-...  \n",
       "3  {'BIBREF0': {'ref_id': 'b0', 'title': 'Health ...  \n",
       "4  {'BIBREF0': {'ref_id': 'b0', 'title': 'Arenavi...  "
      ]
     },
     "execution_count": 29,
     "metadata": {},
     "output_type": "execute_result"
    }
   ],
   "source": [
    "comm_dir = 'comm_use_subset/comm_use_subset/'\n",
    "comm_files = load_files(comm_dir)\n",
    "comm_df = generate_clean_df(comm_files)\n",
    "comm_df.to_csv('clean_comm_use.csv', index=False)\n",
    "comm_df.head()"
   ]
  },
  {
   "cell_type": "code",
   "execution_count": 30,
   "metadata": {},
   "outputs": [
    {
     "name": "stderr",
     "output_type": "stream",
     "text": [
      "100%|██████████| 2353/2353 [00:11<00:00, 199.74it/s]\n",
      "100%|██████████| 2353/2353 [00:26<00:00, 94.56it/s] \n"
     ]
    },
    {
     "data": {
      "text/html": [
       "<div>\n",
       "<style scoped>\n",
       "    .dataframe tbody tr th:only-of-type {\n",
       "        vertical-align: middle;\n",
       "    }\n",
       "\n",
       "    .dataframe tbody tr th {\n",
       "        vertical-align: top;\n",
       "    }\n",
       "\n",
       "    .dataframe thead th {\n",
       "        text-align: right;\n",
       "    }\n",
       "</style>\n",
       "<table border=\"1\" class=\"dataframe\">\n",
       "  <thead>\n",
       "    <tr style=\"text-align: right;\">\n",
       "      <th></th>\n",
       "      <th>paper_id</th>\n",
       "      <th>title</th>\n",
       "      <th>authors</th>\n",
       "      <th>affiliations</th>\n",
       "      <th>abstract</th>\n",
       "      <th>text</th>\n",
       "      <th>bibliography</th>\n",
       "      <th>raw_authors</th>\n",
       "      <th>raw_bibliography</th>\n",
       "    </tr>\n",
       "  </thead>\n",
       "  <tbody>\n",
       "    <tr>\n",
       "      <th>0</th>\n",
       "      <td>b2f67d533f2749807f2537f3775b39da3b186051</td>\n",
       "      <td>Caring for persons in detention suffering with...</td>\n",
       "      <td>Michael Liebrenz, Dinesh Bhugra, Anna Buadze, ...</td>\n",
       "      <td>Michael Liebrenz (University of Bern, Bern, Sw...</td>\n",
       "      <td></td>\n",
       "      <td>\\n\\nThere is a disproportionate number of indi...</td>\n",
       "      <td>Influenza outbreak in a correctional facility,...</td>\n",
       "      <td>[{'first': 'Michael', 'middle': [], 'last': 'L...</td>\n",
       "      <td>{'BIBREF0': {'ref_id': 'b0', 'title': 'Influen...</td>\n",
       "    </tr>\n",
       "    <tr>\n",
       "      <th>1</th>\n",
       "      <td>ad98979eada6e333a276d39efdce21779d538625</td>\n",
       "      <td>Xanthine-based acyclic nucleoside phosphonates...</td>\n",
       "      <td>Ond Rej Baszczy Nski, Martin Maxmilian Kaiser,...</td>\n",
       "      <td>Ond Rej Baszczy Nski, Martin Maxmilian Kaiser,...</td>\n",
       "      <td>Abstract\\n\\nWhile noncanonic xanthine nucleoti...</td>\n",
       "      <td>Introduction\\n\\nThe concentration and ratio of...</td>\n",
       "      <td>Absolute metabolite concentrations and implied...</td>\n",
       "      <td>[{'first': 'Ond', 'middle': [], 'last': 'Rej B...</td>\n",
       "      <td>{'BIBREF0': {'ref_id': 'b0', 'title': 'Absolut...</td>\n",
       "    </tr>\n",
       "    <tr>\n",
       "      <th>2</th>\n",
       "      <td>464f7d3a460eb51dbc25bd12639b22079a73f85a</td>\n",
       "      <td>Viral lncRNA: A regulatory molecule for contro...</td>\n",
       "      <td>Ziqiang Wang, Yiwan Zhao, Yaou Zhang</td>\n",
       "      <td>Ziqiang Wang (Tsinghua University, 100084, Bei...</td>\n",
       "      <td>Abstract\\n\\nLong non-coding RNAs (lncRNAs) are...</td>\n",
       "      <td>Introduction\\n\\nViruses are important infectio...</td>\n",
       "      <td>The challenge of viral snRNPs, Cold Spring Har...</td>\n",
       "      <td>[{'first': 'Ziqiang', 'middle': [], 'last': 'W...</td>\n",
       "      <td>{'BIBREF0': {'ref_id': 'b0', 'title': 'The cha...</td>\n",
       "    </tr>\n",
       "    <tr>\n",
       "      <th>3</th>\n",
       "      <td>c436139975d97ef929b5d8452595de40bda0c11c</td>\n",
       "      <td>Phone: (1) 301-451-9881, jbeigel@niaid.nih.gov</td>\n",
       "      <td>John H Beigel, Pablo Tebas, Marie-Carmelle Eli...</td>\n",
       "      <td>John H Beigel, Pablo Tebas, Marie-Carmelle Eli...</td>\n",
       "      <td>Abstract\\n\\non behalf of the IRC002 Study Team...</td>\n",
       "      <td>INTRODUCTION\\n\\nPandemic influenza remains a g...</td>\n",
       "      <td>Meta-analysis: convalescent blood products for...</td>\n",
       "      <td>[{'first': 'John', 'middle': ['H'], 'last': 'B...</td>\n",
       "      <td>{'BIBREF0': {'ref_id': 'b0', 'title': 'Meta-an...</td>\n",
       "    </tr>\n",
       "    <tr>\n",
       "      <th>4</th>\n",
       "      <td>634128ea7d7736750e1c3cd0a48bb37843d06dac</td>\n",
       "      <td>A Strategy To Estimate Unknown Viral Diversity...</td>\n",
       "      <td>Simon J Anthony, Jonathan H Epstein, Kris A Mu...</td>\n",
       "      <td>Simon J Anthony, Jonathan H Epstein, Kris A Mu...</td>\n",
       "      <td>Abstract\\n\\nThe majority of emerging zoonoses ...</td>\n",
       "      <td>Viral discovery.\\n\\nA total of 12,793 consensu...</td>\n",
       "      <td>Factors in the emergence of infectious disease...</td>\n",
       "      <td>[{'first': 'Simon', 'middle': ['J'], 'last': '...</td>\n",
       "      <td>{'BIBREF0': {'ref_id': 'b0', 'title': 'Factors...</td>\n",
       "    </tr>\n",
       "  </tbody>\n",
       "</table>\n",
       "</div>"
      ],
      "text/plain": [
       "                                   paper_id  \\\n",
       "0  b2f67d533f2749807f2537f3775b39da3b186051   \n",
       "1  ad98979eada6e333a276d39efdce21779d538625   \n",
       "2  464f7d3a460eb51dbc25bd12639b22079a73f85a   \n",
       "3  c436139975d97ef929b5d8452595de40bda0c11c   \n",
       "4  634128ea7d7736750e1c3cd0a48bb37843d06dac   \n",
       "\n",
       "                                               title  \\\n",
       "0  Caring for persons in detention suffering with...   \n",
       "1  Xanthine-based acyclic nucleoside phosphonates...   \n",
       "2  Viral lncRNA: A regulatory molecule for contro...   \n",
       "3     Phone: (1) 301-451-9881, jbeigel@niaid.nih.gov   \n",
       "4  A Strategy To Estimate Unknown Viral Diversity...   \n",
       "\n",
       "                                             authors  \\\n",
       "0  Michael Liebrenz, Dinesh Bhugra, Anna Buadze, ...   \n",
       "1  Ond Rej Baszczy Nski, Martin Maxmilian Kaiser,...   \n",
       "2               Ziqiang Wang, Yiwan Zhao, Yaou Zhang   \n",
       "3  John H Beigel, Pablo Tebas, Marie-Carmelle Eli...   \n",
       "4  Simon J Anthony, Jonathan H Epstein, Kris A Mu...   \n",
       "\n",
       "                                        affiliations  \\\n",
       "0  Michael Liebrenz (University of Bern, Bern, Sw...   \n",
       "1  Ond Rej Baszczy Nski, Martin Maxmilian Kaiser,...   \n",
       "2  Ziqiang Wang (Tsinghua University, 100084, Bei...   \n",
       "3  John H Beigel, Pablo Tebas, Marie-Carmelle Eli...   \n",
       "4  Simon J Anthony, Jonathan H Epstein, Kris A Mu...   \n",
       "\n",
       "                                            abstract  \\\n",
       "0                                                      \n",
       "1  Abstract\\n\\nWhile noncanonic xanthine nucleoti...   \n",
       "2  Abstract\\n\\nLong non-coding RNAs (lncRNAs) are...   \n",
       "3  Abstract\\n\\non behalf of the IRC002 Study Team...   \n",
       "4  Abstract\\n\\nThe majority of emerging zoonoses ...   \n",
       "\n",
       "                                                text  \\\n",
       "0  \\n\\nThere is a disproportionate number of indi...   \n",
       "1  Introduction\\n\\nThe concentration and ratio of...   \n",
       "2  Introduction\\n\\nViruses are important infectio...   \n",
       "3  INTRODUCTION\\n\\nPandemic influenza remains a g...   \n",
       "4  Viral discovery.\\n\\nA total of 12,793 consensu...   \n",
       "\n",
       "                                        bibliography  \\\n",
       "0  Influenza outbreak in a correctional facility,...   \n",
       "1  Absolute metabolite concentrations and implied...   \n",
       "2  The challenge of viral snRNPs, Cold Spring Har...   \n",
       "3  Meta-analysis: convalescent blood products for...   \n",
       "4  Factors in the emergence of infectious disease...   \n",
       "\n",
       "                                         raw_authors  \\\n",
       "0  [{'first': 'Michael', 'middle': [], 'last': 'L...   \n",
       "1  [{'first': 'Ond', 'middle': [], 'last': 'Rej B...   \n",
       "2  [{'first': 'Ziqiang', 'middle': [], 'last': 'W...   \n",
       "3  [{'first': 'John', 'middle': ['H'], 'last': 'B...   \n",
       "4  [{'first': 'Simon', 'middle': ['J'], 'last': '...   \n",
       "\n",
       "                                    raw_bibliography  \n",
       "0  {'BIBREF0': {'ref_id': 'b0', 'title': 'Influen...  \n",
       "1  {'BIBREF0': {'ref_id': 'b0', 'title': 'Absolut...  \n",
       "2  {'BIBREF0': {'ref_id': 'b0', 'title': 'The cha...  \n",
       "3  {'BIBREF0': {'ref_id': 'b0', 'title': 'Meta-an...  \n",
       "4  {'BIBREF0': {'ref_id': 'b0', 'title': 'Factors...  "
      ]
     },
     "execution_count": 30,
     "metadata": {},
     "output_type": "execute_result"
    }
   ],
   "source": [
    "noncomm_dir = 'noncomm_use_subset/noncomm_use_subset/'\n",
    "noncomm_files = load_files(noncomm_dir)\n",
    "noncomm_df = generate_clean_df(noncomm_files)\n",
    "noncomm_df.to_csv('clean_noncomm_use.csv', index=False)\n",
    "noncomm_df.head()"
   ]
  },
  {
   "cell_type": "code",
   "execution_count": 31,
   "metadata": {},
   "outputs": [
    {
     "data": {
      "text/plain": [
       "'\\n\\nThere is a disproportionate number of individuals with mental and somatic illnesses among persons in detention (Bhugra, 2020; Ginn, 2012) . It is also known that infections which are transmitted human to human via droplet or close contact spread particularly well in confined spaces. Since transfer options for further treatment are more difficult (especially in detention facilities) preventive measures are strongly emphasized, particularly in the case of viral droplet infections. For example, in the context of influenza, vaccination of detainees and staff is recommended (NHS 2019) . If such options are not available, prisons and other closed facilities, like asylum centers, shelters, and closed psychiatric hospitals, pose a risk for the rapid spread of such diseases. In the past, Australia for example has described the rapid spread of influenza among prison inmates (Awofeso et al., 2001) . The Spanish flu is also reported to have affected about a quarter of all inmates; a prevalence much higher when compared to data from the general population (Finnie, Copley, Hall, & Leach, 2014) . We are also currently receiving news from China, which reports a rapid spread of Covid-19 infections among prisoners from the Hubei Province. Regarding Covid-19, the spread seems to have been caused by infected security personnel importing it into detention facilities. According to the media, the Chinese government reacted to the outbreak among inmates by locking down affected prisons, suspending the transportation of goods, testing inmates who were in contact with the diagnosed wardens, and also by dismissing the prison directors and setting up a commission to analyse the spread of the virus among detained individuals (Caixing Global 2019). Correctly, there has recently been talk of a \"blind spot\" in the media regarding the spread of Covid-19 among prison inmates. (Global Times 2020) We argue that the blind spot extends further to particularly marginalized groups such as individuals using and abusing drugs and people without legal residence status, especially since these groups often overlap with individuals in detention (Liem, Wang, Wariyanti, Latkin, & Hall, 2020) . Under normal circumstances, the psychological and psychiatric care of individuals in prison is already a major challenge for many health care systems; a problem that is even more evident in times of crisis, as is currently observed. The difficulties arise on different levels and affect detained individuals, security personnel, as well as medical staff alike (Chen et al., 2020) . Fears, worries, and uncertainties, especially for isolated or quarantined patients, can cause an increase in stress-related illnesses but also the exacerbation of pre-existing mental disorders (Duan & Zhu, 2020) . This leads to a dilemma: the higher level of care and support that is required is contravened by recommendations that, especially under conditions of isolation, advise against the routine consultation of clinical psychologists, psychiatrists, and social workers in order to prevent the spread of infections. In this situation, medical staff, who are primarily focused on treating the infection (or complications thereof), must then additionally provide psychological care and be ready to intervene during a mental health crisis. Against this backdrop, some authors advocate for the use of online counselling tools and web platforms to support individuals in isolation and those affected (Liu et al., 2020) . Although these recommendations are directed at the general population and not at a prison population, it does not seem reasonable that such channels of care should not be used for individuals under detention as well. Other models could be envisaged, such as the provision of telephone counselling for prisoners and staff. However, for the current outbreak of Covid-19, such elements may not be implemented quickly enough. This raises the question of how to provide rational, basic psychiatric care under the current challenging conditions. We urge that governments take into account special needs of people in confined closed spaces. They must try: -Preserving continuity in provision of psychiatric and psychological care to individuals in detention is imperative and should remain so during the Covid-19 outbreak. -Early coordination between regional prison authorities, prison psychiatry, and general medical and general psychiatric care providers (e.g. in cases of referrals). This must also include close liaison with court diversion schemes, probation officers and others. Some clear guidance needs to be developed urgently regarding visitors to prisons and jails. -Given the potential shortage of time and human resources, the more severe psychiatric and psychological cases must be carefully triaged.Here, factors such as pre-existing mental illness, self-and extraneous endangerment, violence and aggressive behavior, refusal to eat, and also assessments and recommendations of experienced security staff should be taken into account. -Given the flood of perceivable unsettling information on Covid-19, staff providing psychological or psychiatric treatment should be informed regularly and urgently about symptomatology and presentation and on the realistic clinical course, also in comparison to other infectious diseases or in comparison to other daily risks. Sharing of accurate information without bias and panic is critical. -Ensuring the provision of masks, disinfectants and protective measures in sufficient quantity for psychological and psychiatric staff visiting individuals in detention. -Particular attention should also be paid to certify that staff deployed to provide psychological-psychiatric care in institutions are informed and/or sensitized of known potential risk factors for a more severe course of a Covid-19 infection of their own (advanced age, somatic comorbidities, chronic respiratory diseases, hypertension, cancer, known immune deficiencies etc.). Due to the currently limited understanding of Covid-19, it may be advisable to prohibit employees with such conditions from providing psychological or psychiatric care to individuals in detention and prisons. -If there is a sudden shortage of staff providing psychological and psychiatric care to detained individuals with a mental illness, staff from general psychiatry may have to fill consequential gaps. This needs careful planning on an urgent basis so that the potential of extremely long working hours of medical staff during the current outbreak can be managed successfully.From a contemporary perspective, with increasing numbers of reported cases from South Korea, Iran, and Italy and, in some cases, comparably drastic interventions (sealing off entire regions), as well as reports of a rapid spread of Covid-19 among individuals in prison or in other closed societies, the provision of general medical care to those affected has already become a challenge in some parts of the world,. 12 However, it should not be forgotten that psychiatric and psychological care must not just be provided to affected individuals among the general population, but also to vulnerable groups such as people in detention, homes, and asylum centers. Those who survive the infection may experience survivor guilt and those who experience loss of loved ones may experience grief; all the above alongside those who are quarantined will require substantial support.\\n\\nDeclaration of competing interest\\n\\nMichael Liebrenz is the Editor in Chief of Forensic Science International: Mind and Law. No other competing interests exist.\\n\\n'"
      ]
     },
     "execution_count": 31,
     "metadata": {},
     "output_type": "execute_result"
    }
   ],
   "source": [
    "noncomm_df.text[0]"
   ]
  },
  {
   "cell_type": "code",
   "execution_count": null,
   "metadata": {},
   "outputs": [],
   "source": []
  }
 ],
 "metadata": {
  "kernelspec": {
   "display_name": "Python 3",
   "language": "python",
   "name": "python3"
  },
  "language_info": {
   "codemirror_mode": {
    "name": "ipython",
    "version": 3
   },
   "file_extension": ".py",
   "mimetype": "text/x-python",
   "name": "python",
   "nbconvert_exporter": "python",
   "pygments_lexer": "ipython3",
   "version": "3.7.3"
  }
 },
 "nbformat": 4,
 "nbformat_minor": 2
}
